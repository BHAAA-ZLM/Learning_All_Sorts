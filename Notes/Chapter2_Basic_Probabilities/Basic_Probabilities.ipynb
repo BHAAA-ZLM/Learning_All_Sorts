{
 "cells": [
  {
   "cell_type": "markdown",
   "source": [
    "# Basic Probabilities\n",
    "\n",
    "In this chapter, we are going to learn something I am already very familiar with. So I'm just going to list the equations and learn some python codes with it.\n",
    "\n",
    "$$0 \\leq P(A) \\geq 1$$\n",
    "$$\\displaystyle\\sum_{i} P(A_i) = 1$$\n",
    "\n",
    "With flipping coins problems, the probability of getting two heads out of three toss is $0.375$, and we can try it out with a code."
   ],
   "metadata": {
    "collapsed": false
   }
  },
  {
   "cell_type": "code",
   "execution_count": 1,
   "outputs": [
    {
     "name": "stdout",
     "output_type": "stream",
     "text": [
      "Probabilities: [0.125561 0.374252 0.375751 0.124436]\n"
     ]
    }
   ],
   "source": [
    "import numpy as np\n",
    "N = 1000000\n",
    "M = 3\n",
    "heads = np.zeros(M+1)\n",
    "for i in range(N):\n",
    "    flips = np.random.randint(0,2,M)\n",
    "    h = np.bincount(flips, minlength=2)[0]\n",
    "    \"in python h,_ means just taking the first item in the array\"\n",
    "    \"since _ means to ignore something\"\n",
    "    heads[h] += 1\n",
    "prob = heads / N\n",
    "print(\"Probabilities: %s\" % np.array2string(prob))"
   ],
   "metadata": {
    "collapsed": false
   }
  },
  {
   "cell_type": "markdown",
   "source": [
    "With the law of large numbers, we can see that the probabilities converges to $[\\frac{1}{8},\\frac{3}{8},\\frac{3}{8},\\frac{1}{8}]$"
   ],
   "metadata": {
    "collapsed": false
   }
  },
  {
   "cell_type": "markdown",
   "source": [
    "Two events are **mutually exclusive** if they can't happen at the same time.\n",
    "Two events are **independent** if the result of one exam doesn't influence the other.\n",
    "\n",
    "$$ P(A \\cup B) = P(A) + P(B) - P(A\\cap B)$$\n",
    "$$ P(A \\cap B) = P(A | B) P(B)$$\n",
    "\n",
    "Total Probability:\n",
    "$$P(A) = \\sum_{i} P(A|B_i)P(B_i)$$\n",
    "\n",
    "Note that when $A$ and $B$ are independent, $P(A\\cap B) = P(A)P(B)$.\n",
    "When $A$ and $B$ are mutually exclusive, $P(A \\cap B) = 0$.\n",
    "\n",
    "If we are choosing something, not putting it back, and not caring about their order:\n",
    "$$ C(m,k) = \\begin{pmatrix}\n",
    " m\\\\\n",
    " k\n",
    " \\end{pmatrix} = \\frac{m!}{k!(m-k)!}$$\n",
    "\n",
    "Marginal Probability:\n",
    "$$P(X=x) = \\sum_i P(X=x,Y=y_i) \\\\\n",
    "P(Y = y) = \\sum_j P(X=x_j, Y=y) $$\n",
    "Rewritten the conditional probability:\n",
    "$$P(A|B) = \\frac{P(A,B)}{P(B)}$$\n",
    "\n",
    "Chain rule of probability:\n",
    "$$P(X_1,X_2,...,X_n) = \\prod_{i=1}^n P(X_i| \\bigcap_{j=1}^{i-1} X_j)$$\n",
    "e.g. $P(A,B,C,D) = P(A|B,C,D)P(B|C,D)P(C|D)P(D)$"
   ],
   "metadata": {
    "collapsed": false
   }
  }
 ],
 "metadata": {
  "kernelspec": {
   "display_name": "Python 3",
   "language": "python",
   "name": "python3"
  },
  "language_info": {
   "codemirror_mode": {
    "name": "ipython",
    "version": 2
   },
   "file_extension": ".py",
   "mimetype": "text/x-python",
   "name": "python",
   "nbconvert_exporter": "python",
   "pygments_lexer": "ipython2",
   "version": "2.7.6"
  }
 },
 "nbformat": 4,
 "nbformat_minor": 0
}
