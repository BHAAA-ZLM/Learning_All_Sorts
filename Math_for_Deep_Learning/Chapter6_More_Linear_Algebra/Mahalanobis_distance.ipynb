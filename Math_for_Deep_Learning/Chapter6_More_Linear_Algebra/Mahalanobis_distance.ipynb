{
 "cells": [
  {
   "cell_type": "markdown",
   "source": [
    "# The Mahalanobis Distance"
   ],
   "metadata": {
    "collapsed": false
   }
  },
  {
   "cell_type": "code",
   "execution_count": 1,
   "outputs": [],
   "source": [
    "import numpy as np\n",
    "from sklearn import datasets\n",
    "from scipy.spatial.distance import mahalanobis"
   ],
   "metadata": {
    "collapsed": false
   }
  },
  {
   "cell_type": "code",
   "execution_count": 15,
   "outputs": [],
   "source": [
    "bc = datasets.load_breast_cancer()\n",
    "d = bc.data\n",
    "l = bc.target\n",
    "i = np.argsort(np.random.random(len(d)))\n",
    "d = d[i]; l = l[i]\n",
    "xtrn, ytrn = d[:400], l[:400]\n",
    "xtst, ytst = d[400:], l[400:]"
   ],
   "metadata": {
    "collapsed": false
   }
  },
  {
   "cell_type": "markdown",
   "source": [
    "Where `d` is the training data and `l` is the label for the breast cancer."
   ],
   "metadata": {
    "collapsed": false
   }
  },
  {
   "cell_type": "code",
   "execution_count": 24,
   "outputs": [],
   "source": [
    "i = np.where(ytrn == 0)\n",
    "m0 = xtrn[i].mean(axis = 0) #means taking the mean of all column\n",
    "i = np.where(ytrn == 1)\n",
    "m1 = xtrn[i].mean(axis = 0)\n",
    "S = np.cov(xtrn, rowvar=False)\n",
    "SI = np.linalg.inv(S)"
   ],
   "metadata": {
    "collapsed": false
   }
  },
  {
   "cell_type": "code",
   "execution_count": 25,
   "outputs": [],
   "source": [
    "def score(xtst, ytst, m, SI):\n",
    "    nc = 0\n",
    "    for i in range(len(ytst)):\n",
    "        d = np.array([mahalanobis(xtst[i], m[0], SI),\n",
    "                      mahalanobis(xtst[i], m[1], SI)])\n",
    "        c = np.argmin(d)\n",
    "        if(c == ytst[i]):\n",
    "            nc += 1\n",
    "    return nc / len(ytst)"
   ],
   "metadata": {
    "collapsed": false
   }
  },
  {
   "cell_type": "code",
   "execution_count": 29,
   "outputs": [
    {
     "name": "stdout",
     "output_type": "stream",
     "text": [
      "Mahalanobis score = 0.9467\n",
      "Euclidean   score = 0.8994\n"
     ]
    }
   ],
   "source": [
    "mscore = score(xtst, ytst, [m0, m1], SI)\n",
    "escore = score(xtst, ytst, [m0, m1], np.identity(30))\n",
    "print(\"Mahalanobis score = %0.4f\" % mscore)\n",
    "print(\"Euclidean   score = %0.4f\" % escore)"
   ],
   "metadata": {
    "collapsed": false
   }
  }
 ],
 "metadata": {
  "kernelspec": {
   "display_name": "Python 3",
   "language": "python",
   "name": "python3"
  },
  "language_info": {
   "codemirror_mode": {
    "name": "ipython",
    "version": 2
   },
   "file_extension": ".py",
   "mimetype": "text/x-python",
   "name": "python",
   "nbconvert_exporter": "python",
   "pygments_lexer": "ipython2",
   "version": "2.7.6"
  }
 },
 "nbformat": 4,
 "nbformat_minor": 0
}
