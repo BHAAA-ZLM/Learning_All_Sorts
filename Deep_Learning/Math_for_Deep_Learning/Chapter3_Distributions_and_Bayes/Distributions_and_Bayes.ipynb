{
 "cells": [
  {
   "cell_type": "markdown",
   "source": [
    "# More Probability\n",
    "\n",
    "The probability distributions and the Bayes' theorem.\n",
    "\n",
    "## The Probability Distributions\n",
    "A function that generates values on demand, the values are random, but the likelihood of the values follows a general pattern.\n",
    "\n",
    "### Discrete Probability Distributions\n",
    "**Binomial Distribution**:\n",
    "$$ P(X = k) = \\begin{pmatrix} n \\\\ k \\end{pmatrix} p^k (1-p)^{n-k}$$\n",
    "With $E(X) = np$ and $Var(X) = np(1-p)$.\n",
    "We can draw samples from a binomial distribution using Numpy."
   ],
   "metadata": {
    "collapsed": false
   }
  },
  {
   "cell_type": "code",
   "execution_count": 4,
   "outputs": [
    {
     "data": {
      "text/plain": "array([162, 360, 295, 138,  43,   2])"
     },
     "execution_count": 4,
     "metadata": {},
     "output_type": "execute_result"
    }
   ],
   "source": [
    "import matplotlib.pyplot as plt\n",
    "import numpy as np\n",
    "t = np.random.binomial(5, 0.3, size = 1000)\n",
    "s = np.bincount(t)\n",
    "s"
   ],
   "metadata": {
    "collapsed": false
   }
  },
  {
   "cell_type": "markdown",
   "source": [
    "As we can see, this is the results of draws from a binomial distribution with $ n = 5$ and $p = 0.3$.\n",
    "\n",
    "**Bernoulli Distribution**:\n",
    "Bernoulli Distribution is just a special case for the binomial distribution, with parameters n = 2. Meaning that the experiment only have two discrete results (usually yes and no).\n",
    "\n",
    "**The Poisson Distribution**:\n",
    "$$P(k) = \\frac{\\lambda^k e^{-\\lambda}}{k!}$$\n",
    "With $E(X) = \\lambda$ and $Var(X) = \\lambda$\n",
    "Similar to the binomial distribution, we can draw datas following the Poisson distribution from python."
   ],
   "metadata": {
    "collapsed": false
   }
  },
  {
   "cell_type": "code",
   "execution_count": 5,
   "outputs": [
    {
     "data": {
      "text/plain": "array([  5,  43,  85, 123, 169, 171, 148, 119,  59,  34,  26,  13,   1,\n         2,   1,   1])"
     },
     "execution_count": 5,
     "metadata": {},
     "output_type": "execute_result"
    }
   ],
   "source": [
    "t = np.random.poisson(5, size = 1000)\n",
    "s = np.bincount(t)\n",
    "s"
   ],
   "metadata": {
    "collapsed": false
   }
  },
  {
   "cell_type": "markdown",
   "source": [
    "**The Fast Loaded Dice Roller**\n",
    "Enabling us to draw samples from any discrete distribution (e.g. drawing from some weird distributions you made up yourself). *The Fast Loaded Dice Roller* lets us specify an arbitrary discrete distribution and then draw samples from it, you can find its GitHub pages [here](https://github.com/probcomp/fast-loaded-dice-roller)."
   ],
   "metadata": {
    "collapsed": false
   }
  },
  {
   "cell_type": "code",
   "execution_count": 11,
   "outputs": [
    {
     "data": {
      "text/plain": "array([612, 191,  97, 100])"
     },
     "execution_count": 11,
     "metadata": {},
     "output_type": "execute_result"
    }
   ],
   "source": [
    "import fldr\n",
    "from fldr import fldrf\n",
    "from fldr import fldr_sample\n",
    "x = fldrf.fldr_preprocess_float_c([0.6,0.2,0.1,0.1])\n",
    "t = [fldr_sample(x) for i in range(1000)]\n",
    "np.bincount(t)"
   ],
   "metadata": {
    "collapsed": false
   }
  },
  {
   "cell_type": "markdown",
   "source": [
    "### Law of large numbers and the central limit theorem\n",
    "Even the mean of a discrete random variable fits to a normal curve."
   ],
   "metadata": {
    "collapsed": false
   }
  },
  {
   "cell_type": "code",
   "execution_count": 7,
   "outputs": [
    {
     "name": "stdout",
     "output_type": "stream",
     "text": [
      "Mean of the means = 1.4999619\n"
     ]
    },
    {
     "data": {
      "text/plain": "<Figure size 640x480 with 1 Axes>",
      "image/png": "[encoded data removed]"
     },
     "metadata": {},
     "output_type": "display_data"
    }
   ],
   "source": [
    "import numpy as np\n",
    "import matplotlib.pylab as plt\n",
    "import fldr\n",
    "from fldr import fldrf\n",
    "z = fldrf.fldr_preprocess_float_c([0.1,0.6,0.1,0.1,0.1])\n",
    "M = 10000\n",
    "m = np.zeros(M)\n",
    "for i in range(M):\n",
    "    t = np.array([fldr.fldr_sample(z) for i in range(M)])\n",
    "    m[i] = t.mean()\n",
    "print(\"Mean of the means = %0.7f\" % m.mean())\n",
    "\n",
    "h, x = np.histogram(m, bins = 100)\n",
    "h = h / h.sum()\n",
    "plt.bar(x[:-1]+0.5*(x[1]-x[0]), h, width=0.8*(x[1]-x[0]))\n",
    "plt.xlabel(\"Mean\")\n",
    "plt.ylabel(\"Probability\")\n",
    "plt.tight_layout(pad=0, w_pad=0, h_pad=0)\n",
    "plt.show()"
   ],
   "metadata": {
    "collapsed": false
   }
  },
  {
   "cell_type": "markdown",
   "source": [
    "I have put the distribution summary sheet from the statistics course in the same directory, it covers all the continuous distributions in this chapter and I think it's more than enough."
   ],
   "metadata": {
    "collapsed": false
   }
  }
 ],
 "metadata": {
  "kernelspec": {
   "display_name": "Python 3",
   "language": "python",
   "name": "python3"
  },
  "language_info": {
   "codemirror_mode": {
    "name": "ipython",
    "version": 2
   },
   "file_extension": ".py",
   "mimetype": "text/x-python",
   "name": "python",
   "nbconvert_exporter": "python",
   "pygments_lexer": "ipython2",
   "version": "2.7.6"
  }
 },
 "nbformat": 4,
 "nbformat_minor": 0
}
